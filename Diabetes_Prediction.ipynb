{
  "nbformat": 4,
  "nbformat_minor": 0,
  "metadata": {
    "colab": {
      "name": "Diabetes Prediction.ipynb",
      "provenance": [],
      "collapsed_sections": [],
      "authorship_tag": "ABX9TyOWQIjHzBl5tcsTOFZEbmNa",
      "include_colab_link": true
    },
    "kernelspec": {
      "name": "python3",
      "display_name": "Python 3"
    },
    "language_info": {
      "name": "python"
    }
  },
  "cells": [
    {
      "cell_type": "markdown",
      "metadata": {
        "id": "view-in-github",
        "colab_type": "text"
      },
      "source": [
        "<a href=\"https://colab.research.google.com/github/okanckaya/Pima-Indians-Diabetes-Prediction/blob/main/Diabetes_Prediction.ipynb\" target=\"_parent\"><img src=\"https://colab.research.google.com/assets/colab-badge.svg\" alt=\"Open In Colab\"/></a>"
      ]
    },
    {
      "cell_type": "code",
      "metadata": {
        "id": "DCfFNgsYc1aW"
      },
      "source": [
        "import numpy as np\n",
        "import pandas as pd\n",
        "\n",
        "from sklearn.linear_model import LogisticRegression\n",
        "from sklearn.neighbors import KNeighborsClassifier\n",
        "from xgboost import XGBClassifier\n",
        "from sklearn.ensemble import RandomForestClassifier\n",
        "from sklearn.tree import DecisionTreeClassifier\n",
        "\n",
        "from sklearn.metrics import accuracy_score\n",
        "from sklearn.metrics import f1_score\n",
        "from sklearn.metrics import roc_auc_score\n",
        "from sklearn.metrics import roc_curve, auc\n",
        "from sklearn.metrics import precision_score\n",
        "from sklearn.metrics import recall_score\n",
        "from sklearn.metrics import confusion_matrix\n",
        "\n",
        "import matplotlib.pyplot as plt\n",
        "import seaborn as sns\n",
        "from matplotlib.pyplot import figure"
      ],
      "execution_count": 1,
      "outputs": []
    },
    {
      "cell_type": "code",
      "metadata": {
        "colab": {
          "base_uri": "https://localhost:8080/"
        },
        "id": "KvUgs2lZd_Ui",
        "outputId": "9262e246-20df-431a-97b3-bdc9920b194a"
      },
      "source": [
        "from google.colab import drive \n",
        "drive.mount('/content/gdrive')"
      ],
      "execution_count": 2,
      "outputs": [
        {
          "output_type": "stream",
          "name": "stdout",
          "text": [
            "Mounted at /content/gdrive\n"
          ]
        }
      ]
    },
    {
      "cell_type": "code",
      "metadata": {
        "id": "ofZZUxwHeJkh"
      },
      "source": [
        "df = pd.read_csv('gdrive/My Drive/VBO/Hafta 7/Ders Notları/diabetes.csv', error_bad_lines=False)"
      ],
      "execution_count": 3,
      "outputs": []
    },
    {
      "cell_type": "code",
      "metadata": {
        "colab": {
          "base_uri": "https://localhost:8080/",
          "height": 414
        },
        "id": "svbQLxweeW6Q",
        "outputId": "b9b95186-cad0-403a-cdf1-2eb2c4c34983"
      },
      "source": [
        "df"
      ],
      "execution_count": 4,
      "outputs": [
        {
          "output_type": "execute_result",
          "data": {
            "text/html": [
              "<div>\n",
              "<style scoped>\n",
              "    .dataframe tbody tr th:only-of-type {\n",
              "        vertical-align: middle;\n",
              "    }\n",
              "\n",
              "    .dataframe tbody tr th {\n",
              "        vertical-align: top;\n",
              "    }\n",
              "\n",
              "    .dataframe thead th {\n",
              "        text-align: right;\n",
              "    }\n",
              "</style>\n",
              "<table border=\"1\" class=\"dataframe\">\n",
              "  <thead>\n",
              "    <tr style=\"text-align: right;\">\n",
              "      <th></th>\n",
              "      <th>Pregnancies</th>\n",
              "      <th>Glucose</th>\n",
              "      <th>BloodPressure</th>\n",
              "      <th>SkinThickness</th>\n",
              "      <th>Insulin</th>\n",
              "      <th>BMI</th>\n",
              "      <th>DiabetesPedigreeFunction</th>\n",
              "      <th>Age</th>\n",
              "      <th>Outcome</th>\n",
              "    </tr>\n",
              "  </thead>\n",
              "  <tbody>\n",
              "    <tr>\n",
              "      <th>0</th>\n",
              "      <td>6</td>\n",
              "      <td>148</td>\n",
              "      <td>72</td>\n",
              "      <td>35</td>\n",
              "      <td>0</td>\n",
              "      <td>33.6</td>\n",
              "      <td>0.627</td>\n",
              "      <td>50</td>\n",
              "      <td>1</td>\n",
              "    </tr>\n",
              "    <tr>\n",
              "      <th>1</th>\n",
              "      <td>1</td>\n",
              "      <td>85</td>\n",
              "      <td>66</td>\n",
              "      <td>29</td>\n",
              "      <td>0</td>\n",
              "      <td>26.6</td>\n",
              "      <td>0.351</td>\n",
              "      <td>31</td>\n",
              "      <td>0</td>\n",
              "    </tr>\n",
              "    <tr>\n",
              "      <th>2</th>\n",
              "      <td>8</td>\n",
              "      <td>183</td>\n",
              "      <td>64</td>\n",
              "      <td>0</td>\n",
              "      <td>0</td>\n",
              "      <td>23.3</td>\n",
              "      <td>0.672</td>\n",
              "      <td>32</td>\n",
              "      <td>1</td>\n",
              "    </tr>\n",
              "    <tr>\n",
              "      <th>3</th>\n",
              "      <td>1</td>\n",
              "      <td>89</td>\n",
              "      <td>66</td>\n",
              "      <td>23</td>\n",
              "      <td>94</td>\n",
              "      <td>28.1</td>\n",
              "      <td>0.167</td>\n",
              "      <td>21</td>\n",
              "      <td>0</td>\n",
              "    </tr>\n",
              "    <tr>\n",
              "      <th>4</th>\n",
              "      <td>0</td>\n",
              "      <td>137</td>\n",
              "      <td>40</td>\n",
              "      <td>35</td>\n",
              "      <td>168</td>\n",
              "      <td>43.1</td>\n",
              "      <td>2.288</td>\n",
              "      <td>33</td>\n",
              "      <td>1</td>\n",
              "    </tr>\n",
              "    <tr>\n",
              "      <th>...</th>\n",
              "      <td>...</td>\n",
              "      <td>...</td>\n",
              "      <td>...</td>\n",
              "      <td>...</td>\n",
              "      <td>...</td>\n",
              "      <td>...</td>\n",
              "      <td>...</td>\n",
              "      <td>...</td>\n",
              "      <td>...</td>\n",
              "    </tr>\n",
              "    <tr>\n",
              "      <th>763</th>\n",
              "      <td>10</td>\n",
              "      <td>101</td>\n",
              "      <td>76</td>\n",
              "      <td>48</td>\n",
              "      <td>180</td>\n",
              "      <td>32.9</td>\n",
              "      <td>0.171</td>\n",
              "      <td>63</td>\n",
              "      <td>0</td>\n",
              "    </tr>\n",
              "    <tr>\n",
              "      <th>764</th>\n",
              "      <td>2</td>\n",
              "      <td>122</td>\n",
              "      <td>70</td>\n",
              "      <td>27</td>\n",
              "      <td>0</td>\n",
              "      <td>36.8</td>\n",
              "      <td>0.340</td>\n",
              "      <td>27</td>\n",
              "      <td>0</td>\n",
              "    </tr>\n",
              "    <tr>\n",
              "      <th>765</th>\n",
              "      <td>5</td>\n",
              "      <td>121</td>\n",
              "      <td>72</td>\n",
              "      <td>23</td>\n",
              "      <td>112</td>\n",
              "      <td>26.2</td>\n",
              "      <td>0.245</td>\n",
              "      <td>30</td>\n",
              "      <td>0</td>\n",
              "    </tr>\n",
              "    <tr>\n",
              "      <th>766</th>\n",
              "      <td>1</td>\n",
              "      <td>126</td>\n",
              "      <td>60</td>\n",
              "      <td>0</td>\n",
              "      <td>0</td>\n",
              "      <td>30.1</td>\n",
              "      <td>0.349</td>\n",
              "      <td>47</td>\n",
              "      <td>1</td>\n",
              "    </tr>\n",
              "    <tr>\n",
              "      <th>767</th>\n",
              "      <td>1</td>\n",
              "      <td>93</td>\n",
              "      <td>70</td>\n",
              "      <td>31</td>\n",
              "      <td>0</td>\n",
              "      <td>30.4</td>\n",
              "      <td>0.315</td>\n",
              "      <td>23</td>\n",
              "      <td>0</td>\n",
              "    </tr>\n",
              "  </tbody>\n",
              "</table>\n",
              "<p>768 rows × 9 columns</p>\n",
              "</div>"
            ],
            "text/plain": [
              "     Pregnancies  Glucose  ...  Age  Outcome\n",
              "0              6      148  ...   50        1\n",
              "1              1       85  ...   31        0\n",
              "2              8      183  ...   32        1\n",
              "3              1       89  ...   21        0\n",
              "4              0      137  ...   33        1\n",
              "..           ...      ...  ...  ...      ...\n",
              "763           10      101  ...   63        0\n",
              "764            2      122  ...   27        0\n",
              "765            5      121  ...   30        0\n",
              "766            1      126  ...   47        1\n",
              "767            1       93  ...   23        0\n",
              "\n",
              "[768 rows x 9 columns]"
            ]
          },
          "metadata": {},
          "execution_count": 4
        }
      ]
    },
    {
      "cell_type": "code",
      "metadata": {
        "colab": {
          "base_uri": "https://localhost:8080/",
          "height": 324
        },
        "id": "6NW1VPc1eavw",
        "outputId": "425987c3-7f2e-4980-fcf2-2a9771a790f8"
      },
      "source": [
        "df.describe().T"
      ],
      "execution_count": 5,
      "outputs": [
        {
          "output_type": "execute_result",
          "data": {
            "text/html": [
              "<div>\n",
              "<style scoped>\n",
              "    .dataframe tbody tr th:only-of-type {\n",
              "        vertical-align: middle;\n",
              "    }\n",
              "\n",
              "    .dataframe tbody tr th {\n",
              "        vertical-align: top;\n",
              "    }\n",
              "\n",
              "    .dataframe thead th {\n",
              "        text-align: right;\n",
              "    }\n",
              "</style>\n",
              "<table border=\"1\" class=\"dataframe\">\n",
              "  <thead>\n",
              "    <tr style=\"text-align: right;\">\n",
              "      <th></th>\n",
              "      <th>count</th>\n",
              "      <th>mean</th>\n",
              "      <th>std</th>\n",
              "      <th>min</th>\n",
              "      <th>25%</th>\n",
              "      <th>50%</th>\n",
              "      <th>75%</th>\n",
              "      <th>max</th>\n",
              "    </tr>\n",
              "  </thead>\n",
              "  <tbody>\n",
              "    <tr>\n",
              "      <th>Pregnancies</th>\n",
              "      <td>768.0</td>\n",
              "      <td>3.845052</td>\n",
              "      <td>3.369578</td>\n",
              "      <td>0.000</td>\n",
              "      <td>1.00000</td>\n",
              "      <td>3.0000</td>\n",
              "      <td>6.00000</td>\n",
              "      <td>17.00</td>\n",
              "    </tr>\n",
              "    <tr>\n",
              "      <th>Glucose</th>\n",
              "      <td>768.0</td>\n",
              "      <td>120.894531</td>\n",
              "      <td>31.972618</td>\n",
              "      <td>0.000</td>\n",
              "      <td>99.00000</td>\n",
              "      <td>117.0000</td>\n",
              "      <td>140.25000</td>\n",
              "      <td>199.00</td>\n",
              "    </tr>\n",
              "    <tr>\n",
              "      <th>BloodPressure</th>\n",
              "      <td>768.0</td>\n",
              "      <td>69.105469</td>\n",
              "      <td>19.355807</td>\n",
              "      <td>0.000</td>\n",
              "      <td>62.00000</td>\n",
              "      <td>72.0000</td>\n",
              "      <td>80.00000</td>\n",
              "      <td>122.00</td>\n",
              "    </tr>\n",
              "    <tr>\n",
              "      <th>SkinThickness</th>\n",
              "      <td>768.0</td>\n",
              "      <td>20.536458</td>\n",
              "      <td>15.952218</td>\n",
              "      <td>0.000</td>\n",
              "      <td>0.00000</td>\n",
              "      <td>23.0000</td>\n",
              "      <td>32.00000</td>\n",
              "      <td>99.00</td>\n",
              "    </tr>\n",
              "    <tr>\n",
              "      <th>Insulin</th>\n",
              "      <td>768.0</td>\n",
              "      <td>79.799479</td>\n",
              "      <td>115.244002</td>\n",
              "      <td>0.000</td>\n",
              "      <td>0.00000</td>\n",
              "      <td>30.5000</td>\n",
              "      <td>127.25000</td>\n",
              "      <td>846.00</td>\n",
              "    </tr>\n",
              "    <tr>\n",
              "      <th>BMI</th>\n",
              "      <td>768.0</td>\n",
              "      <td>31.992578</td>\n",
              "      <td>7.884160</td>\n",
              "      <td>0.000</td>\n",
              "      <td>27.30000</td>\n",
              "      <td>32.0000</td>\n",
              "      <td>36.60000</td>\n",
              "      <td>67.10</td>\n",
              "    </tr>\n",
              "    <tr>\n",
              "      <th>DiabetesPedigreeFunction</th>\n",
              "      <td>768.0</td>\n",
              "      <td>0.471876</td>\n",
              "      <td>0.331329</td>\n",
              "      <td>0.078</td>\n",
              "      <td>0.24375</td>\n",
              "      <td>0.3725</td>\n",
              "      <td>0.62625</td>\n",
              "      <td>2.42</td>\n",
              "    </tr>\n",
              "    <tr>\n",
              "      <th>Age</th>\n",
              "      <td>768.0</td>\n",
              "      <td>33.240885</td>\n",
              "      <td>11.760232</td>\n",
              "      <td>21.000</td>\n",
              "      <td>24.00000</td>\n",
              "      <td>29.0000</td>\n",
              "      <td>41.00000</td>\n",
              "      <td>81.00</td>\n",
              "    </tr>\n",
              "    <tr>\n",
              "      <th>Outcome</th>\n",
              "      <td>768.0</td>\n",
              "      <td>0.348958</td>\n",
              "      <td>0.476951</td>\n",
              "      <td>0.000</td>\n",
              "      <td>0.00000</td>\n",
              "      <td>0.0000</td>\n",
              "      <td>1.00000</td>\n",
              "      <td>1.00</td>\n",
              "    </tr>\n",
              "  </tbody>\n",
              "</table>\n",
              "</div>"
            ],
            "text/plain": [
              "                          count        mean  ...        75%     max\n",
              "Pregnancies               768.0    3.845052  ...    6.00000   17.00\n",
              "Glucose                   768.0  120.894531  ...  140.25000  199.00\n",
              "BloodPressure             768.0   69.105469  ...   80.00000  122.00\n",
              "SkinThickness             768.0   20.536458  ...   32.00000   99.00\n",
              "Insulin                   768.0   79.799479  ...  127.25000  846.00\n",
              "BMI                       768.0   31.992578  ...   36.60000   67.10\n",
              "DiabetesPedigreeFunction  768.0    0.471876  ...    0.62625    2.42\n",
              "Age                       768.0   33.240885  ...   41.00000   81.00\n",
              "Outcome                   768.0    0.348958  ...    1.00000    1.00\n",
              "\n",
              "[9 rows x 8 columns]"
            ]
          },
          "metadata": {},
          "execution_count": 5
        }
      ]
    },
    {
      "cell_type": "code",
      "metadata": {
        "colab": {
          "base_uri": "https://localhost:8080/"
        },
        "id": "mvWV4m7keecs",
        "outputId": "ab1ad2c3-f2f3-4126-9a99-8e2798b3614d"
      },
      "source": [
        "df.isna().sum()"
      ],
      "execution_count": 6,
      "outputs": [
        {
          "output_type": "execute_result",
          "data": {
            "text/plain": [
              "Pregnancies                 0\n",
              "Glucose                     0\n",
              "BloodPressure               0\n",
              "SkinThickness               0\n",
              "Insulin                     0\n",
              "BMI                         0\n",
              "DiabetesPedigreeFunction    0\n",
              "Age                         0\n",
              "Outcome                     0\n",
              "dtype: int64"
            ]
          },
          "metadata": {},
          "execution_count": 6
        }
      ]
    },
    {
      "cell_type": "markdown",
      "metadata": {
        "id": "Ts9o9rs0dExO"
      },
      "source": [
        "During pregnancy, some women have such high levels of blood glucose that their body is unable to produce enough insulin to absorb it all. This is known as gestational diabetes.\n",
        "\n",
        "* https://www.nhs.uk/conditions/diabetes/"
      ]
    },
    {
      "cell_type": "code",
      "metadata": {
        "id": "cjfHE-D2gofl"
      },
      "source": [
        "glucose_labels = ['0_18', '19_23', '24_30', '31_40', '41_' + str(int(df[\"Age\"].max()))]\n",
        "df[\"Glucose_qcut\"] = pd.qcut(df['Glucose'], 3, labels=glucose_labels)"
      ],
      "execution_count": null,
      "outputs": []
    },
    {
      "cell_type": "markdown",
      "metadata": {
        "id": "RClRl2hrlT0m"
      },
      "source": [
        "**Oral Glucose Tolerance Test (OGTT)**\n",
        "\n",
        "The OGTT is a two-hour test that checks your blood sugar levels before and two hours after you drink a special sweet drink. It tells the doctor how your body processes sugar.\n",
        "\n",
        "\n",
        "Diabetes is diagnosed at 2 hour blood sugar of greater than or equal to 200 mg/dl\n",
        "\n",
        "\n",
        "*Oral Glucose Tolerance Test (OGTT)*\n",
        "*   less than 140 mg/dl -- Normal\n",
        "*   140 mg/dl to 199 mg/dl -- Prediabetes\n",
        "*   200 mg/dl or higher -- Diabetes"
      ]
    },
    {
      "cell_type": "code",
      "metadata": {
        "colab": {
          "base_uri": "https://localhost:8080/",
          "height": 414
        },
        "id": "XRrO5gZd1dpX",
        "outputId": "7e2bb343-e977-4ab4-a805-fcd70dbe033d"
      },
      "source": [
        "df.loc[(df['Glucose'] < 140), 'OGTT'] = 'Normal'\n",
        "df.loc[((140 <= df['Glucose']) & (df['Glucose'] <= 199)), 'OGTT'] = 'Prediabetes'\n",
        "df.loc[(df['Glucose'] > 199), 'OGTT'] = 'Diabetes'\n",
        "df"
      ],
      "execution_count": 72,
      "outputs": [
        {
          "output_type": "execute_result",
          "data": {
            "text/html": [
              "<div>\n",
              "<style scoped>\n",
              "    .dataframe tbody tr th:only-of-type {\n",
              "        vertical-align: middle;\n",
              "    }\n",
              "\n",
              "    .dataframe tbody tr th {\n",
              "        vertical-align: top;\n",
              "    }\n",
              "\n",
              "    .dataframe thead th {\n",
              "        text-align: right;\n",
              "    }\n",
              "</style>\n",
              "<table border=\"1\" class=\"dataframe\">\n",
              "  <thead>\n",
              "    <tr style=\"text-align: right;\">\n",
              "      <th></th>\n",
              "      <th>Pregnancies</th>\n",
              "      <th>Glucose</th>\n",
              "      <th>BloodPressure</th>\n",
              "      <th>SkinThickness</th>\n",
              "      <th>Insulin</th>\n",
              "      <th>BMI</th>\n",
              "      <th>DiabetesPedigreeFunction</th>\n",
              "      <th>Age</th>\n",
              "      <th>Outcome</th>\n",
              "      <th>OGTT</th>\n",
              "    </tr>\n",
              "  </thead>\n",
              "  <tbody>\n",
              "    <tr>\n",
              "      <th>0</th>\n",
              "      <td>6</td>\n",
              "      <td>148</td>\n",
              "      <td>72</td>\n",
              "      <td>35</td>\n",
              "      <td>0</td>\n",
              "      <td>33.6</td>\n",
              "      <td>0.627</td>\n",
              "      <td>50</td>\n",
              "      <td>1</td>\n",
              "      <td>Prediabetes</td>\n",
              "    </tr>\n",
              "    <tr>\n",
              "      <th>1</th>\n",
              "      <td>1</td>\n",
              "      <td>85</td>\n",
              "      <td>66</td>\n",
              "      <td>29</td>\n",
              "      <td>0</td>\n",
              "      <td>26.6</td>\n",
              "      <td>0.351</td>\n",
              "      <td>31</td>\n",
              "      <td>0</td>\n",
              "      <td>Normal</td>\n",
              "    </tr>\n",
              "    <tr>\n",
              "      <th>2</th>\n",
              "      <td>8</td>\n",
              "      <td>183</td>\n",
              "      <td>64</td>\n",
              "      <td>0</td>\n",
              "      <td>0</td>\n",
              "      <td>23.3</td>\n",
              "      <td>0.672</td>\n",
              "      <td>32</td>\n",
              "      <td>1</td>\n",
              "      <td>Prediabetes</td>\n",
              "    </tr>\n",
              "    <tr>\n",
              "      <th>3</th>\n",
              "      <td>1</td>\n",
              "      <td>89</td>\n",
              "      <td>66</td>\n",
              "      <td>23</td>\n",
              "      <td>94</td>\n",
              "      <td>28.1</td>\n",
              "      <td>0.167</td>\n",
              "      <td>21</td>\n",
              "      <td>0</td>\n",
              "      <td>Normal</td>\n",
              "    </tr>\n",
              "    <tr>\n",
              "      <th>4</th>\n",
              "      <td>0</td>\n",
              "      <td>137</td>\n",
              "      <td>40</td>\n",
              "      <td>35</td>\n",
              "      <td>168</td>\n",
              "      <td>43.1</td>\n",
              "      <td>2.288</td>\n",
              "      <td>33</td>\n",
              "      <td>1</td>\n",
              "      <td>Normal</td>\n",
              "    </tr>\n",
              "    <tr>\n",
              "      <th>...</th>\n",
              "      <td>...</td>\n",
              "      <td>...</td>\n",
              "      <td>...</td>\n",
              "      <td>...</td>\n",
              "      <td>...</td>\n",
              "      <td>...</td>\n",
              "      <td>...</td>\n",
              "      <td>...</td>\n",
              "      <td>...</td>\n",
              "      <td>...</td>\n",
              "    </tr>\n",
              "    <tr>\n",
              "      <th>763</th>\n",
              "      <td>10</td>\n",
              "      <td>101</td>\n",
              "      <td>76</td>\n",
              "      <td>48</td>\n",
              "      <td>180</td>\n",
              "      <td>32.9</td>\n",
              "      <td>0.171</td>\n",
              "      <td>63</td>\n",
              "      <td>0</td>\n",
              "      <td>Normal</td>\n",
              "    </tr>\n",
              "    <tr>\n",
              "      <th>764</th>\n",
              "      <td>2</td>\n",
              "      <td>122</td>\n",
              "      <td>70</td>\n",
              "      <td>27</td>\n",
              "      <td>0</td>\n",
              "      <td>36.8</td>\n",
              "      <td>0.340</td>\n",
              "      <td>27</td>\n",
              "      <td>0</td>\n",
              "      <td>Normal</td>\n",
              "    </tr>\n",
              "    <tr>\n",
              "      <th>765</th>\n",
              "      <td>5</td>\n",
              "      <td>121</td>\n",
              "      <td>72</td>\n",
              "      <td>23</td>\n",
              "      <td>112</td>\n",
              "      <td>26.2</td>\n",
              "      <td>0.245</td>\n",
              "      <td>30</td>\n",
              "      <td>0</td>\n",
              "      <td>Normal</td>\n",
              "    </tr>\n",
              "    <tr>\n",
              "      <th>766</th>\n",
              "      <td>1</td>\n",
              "      <td>126</td>\n",
              "      <td>60</td>\n",
              "      <td>0</td>\n",
              "      <td>0</td>\n",
              "      <td>30.1</td>\n",
              "      <td>0.349</td>\n",
              "      <td>47</td>\n",
              "      <td>1</td>\n",
              "      <td>Normal</td>\n",
              "    </tr>\n",
              "    <tr>\n",
              "      <th>767</th>\n",
              "      <td>1</td>\n",
              "      <td>93</td>\n",
              "      <td>70</td>\n",
              "      <td>31</td>\n",
              "      <td>0</td>\n",
              "      <td>30.4</td>\n",
              "      <td>0.315</td>\n",
              "      <td>23</td>\n",
              "      <td>0</td>\n",
              "      <td>Normal</td>\n",
              "    </tr>\n",
              "  </tbody>\n",
              "</table>\n",
              "<p>768 rows × 10 columns</p>\n",
              "</div>"
            ],
            "text/plain": [
              "     Pregnancies  Glucose  BloodPressure  ...  Age  Outcome         OGTT\n",
              "0              6      148             72  ...   50        1  Prediabetes\n",
              "1              1       85             66  ...   31        0       Normal\n",
              "2              8      183             64  ...   32        1  Prediabetes\n",
              "3              1       89             66  ...   21        0       Normal\n",
              "4              0      137             40  ...   33        1       Normal\n",
              "..           ...      ...            ...  ...  ...      ...          ...\n",
              "763           10      101             76  ...   63        0       Normal\n",
              "764            2      122             70  ...   27        0       Normal\n",
              "765            5      121             72  ...   30        0       Normal\n",
              "766            1      126             60  ...   47        1       Normal\n",
              "767            1       93             70  ...   23        0       Normal\n",
              "\n",
              "[768 rows x 10 columns]"
            ]
          },
          "metadata": {},
          "execution_count": 72
        }
      ]
    },
    {
      "cell_type": "code",
      "metadata": {
        "colab": {
          "base_uri": "https://localhost:8080/",
          "height": 1000
        },
        "id": "91LZsv0cnmk7",
        "outputId": "d67b4b19-54d6-4f05-8698-3b9e8a06a241"
      },
      "source": [
        "def show_correlations(df, show_chart = True):\n",
        "    fig = plt.figure(figsize = (25,15))\n",
        "    corr = df.corr()\n",
        "    if show_chart == True:\n",
        "        sns.heatmap(corr, \n",
        "                    xticklabels=corr.columns.values,\n",
        "                    yticklabels=corr.columns.values,\n",
        "                    annot=True)\n",
        "    return corr\n",
        "\n",
        "show_correlations(df_copy)"
      ],
      "execution_count": 73,
      "outputs": [
        {
          "output_type": "execute_result",
          "data": {
            "text/html": [
              "<div>\n",
              "<style scoped>\n",
              "    .dataframe tbody tr th:only-of-type {\n",
              "        vertical-align: middle;\n",
              "    }\n",
              "\n",
              "    .dataframe tbody tr th {\n",
              "        vertical-align: top;\n",
              "    }\n",
              "\n",
              "    .dataframe thead th {\n",
              "        text-align: right;\n",
              "    }\n",
              "</style>\n",
              "<table border=\"1\" class=\"dataframe\">\n",
              "  <thead>\n",
              "    <tr style=\"text-align: right;\">\n",
              "      <th></th>\n",
              "      <th>Pregnancies</th>\n",
              "      <th>Glucose</th>\n",
              "      <th>BloodPressure</th>\n",
              "      <th>SkinThickness</th>\n",
              "      <th>Insulin</th>\n",
              "      <th>BMI</th>\n",
              "      <th>DiabetesPedigreeFunction</th>\n",
              "      <th>Age</th>\n",
              "      <th>OGTT_Normal</th>\n",
              "      <th>OGTT_Prediabetes</th>\n",
              "      <th>Outcome_0</th>\n",
              "      <th>Outcome_1</th>\n",
              "    </tr>\n",
              "  </thead>\n",
              "  <tbody>\n",
              "    <tr>\n",
              "      <th>Pregnancies</th>\n",
              "      <td>1.000000</td>\n",
              "      <td>0.129459</td>\n",
              "      <td>0.141282</td>\n",
              "      <td>-0.081672</td>\n",
              "      <td>-0.073535</td>\n",
              "      <td>0.017683</td>\n",
              "      <td>-0.033523</td>\n",
              "      <td>0.544341</td>\n",
              "      <td>-0.131509</td>\n",
              "      <td>0.131509</td>\n",
              "      <td>-0.221898</td>\n",
              "      <td>0.221898</td>\n",
              "    </tr>\n",
              "    <tr>\n",
              "      <th>Glucose</th>\n",
              "      <td>0.129459</td>\n",
              "      <td>1.000000</td>\n",
              "      <td>0.152590</td>\n",
              "      <td>0.057328</td>\n",
              "      <td>0.331357</td>\n",
              "      <td>0.221071</td>\n",
              "      <td>0.137337</td>\n",
              "      <td>0.263514</td>\n",
              "      <td>-0.786815</td>\n",
              "      <td>0.786815</td>\n",
              "      <td>-0.466581</td>\n",
              "      <td>0.466581</td>\n",
              "    </tr>\n",
              "    <tr>\n",
              "      <th>BloodPressure</th>\n",
              "      <td>0.141282</td>\n",
              "      <td>0.152590</td>\n",
              "      <td>1.000000</td>\n",
              "      <td>0.207371</td>\n",
              "      <td>0.088933</td>\n",
              "      <td>0.281805</td>\n",
              "      <td>0.041265</td>\n",
              "      <td>0.239528</td>\n",
              "      <td>-0.140920</td>\n",
              "      <td>0.140920</td>\n",
              "      <td>-0.065068</td>\n",
              "      <td>0.065068</td>\n",
              "    </tr>\n",
              "    <tr>\n",
              "      <th>SkinThickness</th>\n",
              "      <td>-0.081672</td>\n",
              "      <td>0.057328</td>\n",
              "      <td>0.207371</td>\n",
              "      <td>1.000000</td>\n",
              "      <td>0.436783</td>\n",
              "      <td>0.392573</td>\n",
              "      <td>0.183928</td>\n",
              "      <td>-0.113970</td>\n",
              "      <td>-0.089647</td>\n",
              "      <td>0.089647</td>\n",
              "      <td>-0.074752</td>\n",
              "      <td>0.074752</td>\n",
              "    </tr>\n",
              "    <tr>\n",
              "      <th>Insulin</th>\n",
              "      <td>-0.073535</td>\n",
              "      <td>0.331357</td>\n",
              "      <td>0.088933</td>\n",
              "      <td>0.436783</td>\n",
              "      <td>1.000000</td>\n",
              "      <td>0.197859</td>\n",
              "      <td>0.185071</td>\n",
              "      <td>-0.042163</td>\n",
              "      <td>-0.284868</td>\n",
              "      <td>0.284868</td>\n",
              "      <td>-0.130548</td>\n",
              "      <td>0.130548</td>\n",
              "    </tr>\n",
              "    <tr>\n",
              "      <th>BMI</th>\n",
              "      <td>0.017683</td>\n",
              "      <td>0.221071</td>\n",
              "      <td>0.281805</td>\n",
              "      <td>0.392573</td>\n",
              "      <td>0.197859</td>\n",
              "      <td>1.000000</td>\n",
              "      <td>0.140647</td>\n",
              "      <td>0.036242</td>\n",
              "      <td>-0.219281</td>\n",
              "      <td>0.219281</td>\n",
              "      <td>-0.292695</td>\n",
              "      <td>0.292695</td>\n",
              "    </tr>\n",
              "    <tr>\n",
              "      <th>DiabetesPedigreeFunction</th>\n",
              "      <td>-0.033523</td>\n",
              "      <td>0.137337</td>\n",
              "      <td>0.041265</td>\n",
              "      <td>0.183928</td>\n",
              "      <td>0.185071</td>\n",
              "      <td>0.140647</td>\n",
              "      <td>1.000000</td>\n",
              "      <td>0.033561</td>\n",
              "      <td>-0.109177</td>\n",
              "      <td>0.109177</td>\n",
              "      <td>-0.173844</td>\n",
              "      <td>0.173844</td>\n",
              "    </tr>\n",
              "    <tr>\n",
              "      <th>Age</th>\n",
              "      <td>0.544341</td>\n",
              "      <td>0.263514</td>\n",
              "      <td>0.239528</td>\n",
              "      <td>-0.113970</td>\n",
              "      <td>-0.042163</td>\n",
              "      <td>0.036242</td>\n",
              "      <td>0.033561</td>\n",
              "      <td>1.000000</td>\n",
              "      <td>-0.244703</td>\n",
              "      <td>0.244703</td>\n",
              "      <td>-0.238356</td>\n",
              "      <td>0.238356</td>\n",
              "    </tr>\n",
              "    <tr>\n",
              "      <th>OGTT_Normal</th>\n",
              "      <td>-0.131509</td>\n",
              "      <td>-0.786815</td>\n",
              "      <td>-0.140920</td>\n",
              "      <td>-0.089647</td>\n",
              "      <td>-0.284868</td>\n",
              "      <td>-0.219281</td>\n",
              "      <td>-0.109177</td>\n",
              "      <td>-0.244703</td>\n",
              "      <td>1.000000</td>\n",
              "      <td>-1.000000</td>\n",
              "      <td>0.414455</td>\n",
              "      <td>-0.414455</td>\n",
              "    </tr>\n",
              "    <tr>\n",
              "      <th>OGTT_Prediabetes</th>\n",
              "      <td>0.131509</td>\n",
              "      <td>0.786815</td>\n",
              "      <td>0.140920</td>\n",
              "      <td>0.089647</td>\n",
              "      <td>0.284868</td>\n",
              "      <td>0.219281</td>\n",
              "      <td>0.109177</td>\n",
              "      <td>0.244703</td>\n",
              "      <td>-1.000000</td>\n",
              "      <td>1.000000</td>\n",
              "      <td>-0.414455</td>\n",
              "      <td>0.414455</td>\n",
              "    </tr>\n",
              "    <tr>\n",
              "      <th>Outcome_0</th>\n",
              "      <td>-0.221898</td>\n",
              "      <td>-0.466581</td>\n",
              "      <td>-0.065068</td>\n",
              "      <td>-0.074752</td>\n",
              "      <td>-0.130548</td>\n",
              "      <td>-0.292695</td>\n",
              "      <td>-0.173844</td>\n",
              "      <td>-0.238356</td>\n",
              "      <td>0.414455</td>\n",
              "      <td>-0.414455</td>\n",
              "      <td>1.000000</td>\n",
              "      <td>-1.000000</td>\n",
              "    </tr>\n",
              "    <tr>\n",
              "      <th>Outcome_1</th>\n",
              "      <td>0.221898</td>\n",
              "      <td>0.466581</td>\n",
              "      <td>0.065068</td>\n",
              "      <td>0.074752</td>\n",
              "      <td>0.130548</td>\n",
              "      <td>0.292695</td>\n",
              "      <td>0.173844</td>\n",
              "      <td>0.238356</td>\n",
              "      <td>-0.414455</td>\n",
              "      <td>0.414455</td>\n",
              "      <td>-1.000000</td>\n",
              "      <td>1.000000</td>\n",
              "    </tr>\n",
              "  </tbody>\n",
              "</table>\n",
              "</div>"
            ],
            "text/plain": [
              "                          Pregnancies   Glucose  ...  Outcome_0  Outcome_1\n",
              "Pregnancies                  1.000000  0.129459  ...  -0.221898   0.221898\n",
              "Glucose                      0.129459  1.000000  ...  -0.466581   0.466581\n",
              "BloodPressure                0.141282  0.152590  ...  -0.065068   0.065068\n",
              "SkinThickness               -0.081672  0.057328  ...  -0.074752   0.074752\n",
              "Insulin                     -0.073535  0.331357  ...  -0.130548   0.130548\n",
              "BMI                          0.017683  0.221071  ...  -0.292695   0.292695\n",
              "DiabetesPedigreeFunction    -0.033523  0.137337  ...  -0.173844   0.173844\n",
              "Age                          0.544341  0.263514  ...  -0.238356   0.238356\n",
              "OGTT_Normal                 -0.131509 -0.786815  ...   0.414455  -0.414455\n",
              "OGTT_Prediabetes             0.131509  0.786815  ...  -0.414455   0.414455\n",
              "Outcome_0                   -0.221898 -0.466581  ...   1.000000  -1.000000\n",
              "Outcome_1                    0.221898  0.466581  ...  -1.000000   1.000000\n",
              "\n",
              "[12 rows x 12 columns]"
            ]
          },
          "metadata": {},
          "execution_count": 73
        },
        {
          "output_type": "display_data",
          "data": {
            "image/png": "[encoded data removed]",
            "text/plain": [
              "<Figure size 1800x1080 with 2 Axes>"
            ]
          },
          "metadata": {
            "needs_background": "light"
          }
        }
      ]
    },
    {
      "cell_type": "code",
      "metadata": {
        "id": "xh6vAhFka_6Q"
      },
      "source": [
        "def grab_col_names(dataframe, cat_th=10, car_th=20):\n",
        "\n",
        "    # cat_cols, cat_but_car\n",
        "    cat_cols = [col for col in dataframe.columns if dataframe[col].dtypes == \"O\"]\n",
        "\n",
        "    num_but_cat = [col for col in dataframe.columns if dataframe[col].nunique() < cat_th and\n",
        "                   dataframe[col].dtypes != \"O\"]\n",
        "\n",
        "    cat_but_car = [col for col in dataframe.columns if dataframe[col].nunique() > car_th and\n",
        "                   dataframe[col].dtypes == \"O\"]\n",
        "\n",
        "    cat_cols = cat_cols + num_but_cat\n",
        "\n",
        "    cat_cols = [col for col in cat_cols if col not in cat_but_car]\n",
        "\n",
        "    # num_cols\n",
        "    num_cols = [col for col in dataframe.columns if dataframe[col].dtypes != \"O\"]\n",
        "\n",
        "    num_cols = [col for col in num_cols if col not in num_but_cat]\n",
        "\n",
        "    print(f\"Observations: {dataframe.shape[0]}\")\n",
        "    print(f\"Variables: {dataframe.shape[1]}\")\n",
        "    print(f'cat_cols: {len(cat_cols)}')\n",
        "    print(f'num_cols: {len(num_cols)}')\n",
        "    print(f'cat_but_car: {len(cat_but_car)}')\n",
        "    print(f'num_but_cat: {len(num_but_cat)}')\n",
        "\n",
        "    return cat_cols, num_cols, cat_but_car"
      ],
      "execution_count": 74,
      "outputs": []
    },
    {
      "cell_type": "code",
      "metadata": {
        "id": "Hhd3iLxBgtYy",
        "colab": {
          "base_uri": "https://localhost:8080/",
          "height": 414
        },
        "outputId": "8a035b61-33a0-48d8-e11d-3f2a6059a167"
      },
      "source": [
        "df_copy = df.copy()\n",
        "df_copy = df_copy.iloc[:, [0,1,2,3,4,5,6,7,9,8]]\n",
        "df_copy"
      ],
      "execution_count": 75,
      "outputs": [
        {
          "output_type": "execute_result",
          "data": {
            "text/html": [
              "<div>\n",
              "<style scoped>\n",
              "    .dataframe tbody tr th:only-of-type {\n",
              "        vertical-align: middle;\n",
              "    }\n",
              "\n",
              "    .dataframe tbody tr th {\n",
              "        vertical-align: top;\n",
              "    }\n",
              "\n",
              "    .dataframe thead th {\n",
              "        text-align: right;\n",
              "    }\n",
              "</style>\n",
              "<table border=\"1\" class=\"dataframe\">\n",
              "  <thead>\n",
              "    <tr style=\"text-align: right;\">\n",
              "      <th></th>\n",
              "      <th>Pregnancies</th>\n",
              "      <th>Glucose</th>\n",
              "      <th>BloodPressure</th>\n",
              "      <th>SkinThickness</th>\n",
              "      <th>Insulin</th>\n",
              "      <th>BMI</th>\n",
              "      <th>DiabetesPedigreeFunction</th>\n",
              "      <th>Age</th>\n",
              "      <th>OGTT</th>\n",
              "      <th>Outcome</th>\n",
              "    </tr>\n",
              "  </thead>\n",
              "  <tbody>\n",
              "    <tr>\n",
              "      <th>0</th>\n",
              "      <td>6</td>\n",
              "      <td>148</td>\n",
              "      <td>72</td>\n",
              "      <td>35</td>\n",
              "      <td>0</td>\n",
              "      <td>33.6</td>\n",
              "      <td>0.627</td>\n",
              "      <td>50</td>\n",
              "      <td>Prediabetes</td>\n",
              "      <td>1</td>\n",
              "    </tr>\n",
              "    <tr>\n",
              "      <th>1</th>\n",
              "      <td>1</td>\n",
              "      <td>85</td>\n",
              "      <td>66</td>\n",
              "      <td>29</td>\n",
              "      <td>0</td>\n",
              "      <td>26.6</td>\n",
              "      <td>0.351</td>\n",
              "      <td>31</td>\n",
              "      <td>Normal</td>\n",
              "      <td>0</td>\n",
              "    </tr>\n",
              "    <tr>\n",
              "      <th>2</th>\n",
              "      <td>8</td>\n",
              "      <td>183</td>\n",
              "      <td>64</td>\n",
              "      <td>0</td>\n",
              "      <td>0</td>\n",
              "      <td>23.3</td>\n",
              "      <td>0.672</td>\n",
              "      <td>32</td>\n",
              "      <td>Prediabetes</td>\n",
              "      <td>1</td>\n",
              "    </tr>\n",
              "    <tr>\n",
              "      <th>3</th>\n",
              "      <td>1</td>\n",
              "      <td>89</td>\n",
              "      <td>66</td>\n",
              "      <td>23</td>\n",
              "      <td>94</td>\n",
              "      <td>28.1</td>\n",
              "      <td>0.167</td>\n",
              "      <td>21</td>\n",
              "      <td>Normal</td>\n",
              "      <td>0</td>\n",
              "    </tr>\n",
              "    <tr>\n",
              "      <th>4</th>\n",
              "      <td>0</td>\n",
              "      <td>137</td>\n",
              "      <td>40</td>\n",
              "      <td>35</td>\n",
              "      <td>168</td>\n",
              "      <td>43.1</td>\n",
              "      <td>2.288</td>\n",
              "      <td>33</td>\n",
              "      <td>Normal</td>\n",
              "      <td>1</td>\n",
              "    </tr>\n",
              "    <tr>\n",
              "      <th>...</th>\n",
              "      <td>...</td>\n",
              "      <td>...</td>\n",
              "      <td>...</td>\n",
              "      <td>...</td>\n",
              "      <td>...</td>\n",
              "      <td>...</td>\n",
              "      <td>...</td>\n",
              "      <td>...</td>\n",
              "      <td>...</td>\n",
              "      <td>...</td>\n",
              "    </tr>\n",
              "    <tr>\n",
              "      <th>763</th>\n",
              "      <td>10</td>\n",
              "      <td>101</td>\n",
              "      <td>76</td>\n",
              "      <td>48</td>\n",
              "      <td>180</td>\n",
              "      <td>32.9</td>\n",
              "      <td>0.171</td>\n",
              "      <td>63</td>\n",
              "      <td>Normal</td>\n",
              "      <td>0</td>\n",
              "    </tr>\n",
              "    <tr>\n",
              "      <th>764</th>\n",
              "      <td>2</td>\n",
              "      <td>122</td>\n",
              "      <td>70</td>\n",
              "      <td>27</td>\n",
              "      <td>0</td>\n",
              "      <td>36.8</td>\n",
              "      <td>0.340</td>\n",
              "      <td>27</td>\n",
              "      <td>Normal</td>\n",
              "      <td>0</td>\n",
              "    </tr>\n",
              "    <tr>\n",
              "      <th>765</th>\n",
              "      <td>5</td>\n",
              "      <td>121</td>\n",
              "      <td>72</td>\n",
              "      <td>23</td>\n",
              "      <td>112</td>\n",
              "      <td>26.2</td>\n",
              "      <td>0.245</td>\n",
              "      <td>30</td>\n",
              "      <td>Normal</td>\n",
              "      <td>0</td>\n",
              "    </tr>\n",
              "    <tr>\n",
              "      <th>766</th>\n",
              "      <td>1</td>\n",
              "      <td>126</td>\n",
              "      <td>60</td>\n",
              "      <td>0</td>\n",
              "      <td>0</td>\n",
              "      <td>30.1</td>\n",
              "      <td>0.349</td>\n",
              "      <td>47</td>\n",
              "      <td>Normal</td>\n",
              "      <td>1</td>\n",
              "    </tr>\n",
              "    <tr>\n",
              "      <th>767</th>\n",
              "      <td>1</td>\n",
              "      <td>93</td>\n",
              "      <td>70</td>\n",
              "      <td>31</td>\n",
              "      <td>0</td>\n",
              "      <td>30.4</td>\n",
              "      <td>0.315</td>\n",
              "      <td>23</td>\n",
              "      <td>Normal</td>\n",
              "      <td>0</td>\n",
              "    </tr>\n",
              "  </tbody>\n",
              "</table>\n",
              "<p>768 rows × 10 columns</p>\n",
              "</div>"
            ],
            "text/plain": [
              "     Pregnancies  Glucose  BloodPressure  ...  Age         OGTT  Outcome\n",
              "0              6      148             72  ...   50  Prediabetes        1\n",
              "1              1       85             66  ...   31       Normal        0\n",
              "2              8      183             64  ...   32  Prediabetes        1\n",
              "3              1       89             66  ...   21       Normal        0\n",
              "4              0      137             40  ...   33       Normal        1\n",
              "..           ...      ...            ...  ...  ...          ...      ...\n",
              "763           10      101             76  ...   63       Normal        0\n",
              "764            2      122             70  ...   27       Normal        0\n",
              "765            5      121             72  ...   30       Normal        0\n",
              "766            1      126             60  ...   47       Normal        1\n",
              "767            1       93             70  ...   23       Normal        0\n",
              "\n",
              "[768 rows x 10 columns]"
            ]
          },
          "metadata": {},
          "execution_count": 75
        }
      ]
    },
    {
      "cell_type": "code",
      "metadata": {
        "colab": {
          "base_uri": "https://localhost:8080/"
        },
        "id": "bl8SQNoFbHYi",
        "outputId": "377afdd4-e127-4978-a53d-fc531b38d5be"
      },
      "source": [
        "cat_cols, num_cols, cat_but_car = grab_col_names(df_copy)"
      ],
      "execution_count": 76,
      "outputs": [
        {
          "output_type": "stream",
          "name": "stdout",
          "text": [
            "Observations: 768\n",
            "Variables: 10\n",
            "cat_cols: 2\n",
            "num_cols: 8\n",
            "cat_but_car: 0\n",
            "num_but_cat: 1\n"
          ]
        }
      ]
    },
    {
      "cell_type": "code",
      "metadata": {
        "id": "6EXXRr7lOngn"
      },
      "source": [
        "def outlier_thresholds(dataframe, col_name, q1=0.05, q3=0.95):\n",
        "    quartile1 = dataframe[col_name].quantile(q1)\n",
        "    quartile3 = dataframe[col_name].quantile(q3)\n",
        "    interquantile_range = quartile3 - quartile1\n",
        "    up_limit = quartile3 + 1.5 * interquantile_range\n",
        "    low_limit = quartile1 - 1.5 * interquantile_range\n",
        "    return low_limit, up_limit"
      ],
      "execution_count": 77,
      "outputs": []
    },
    {
      "cell_type": "code",
      "metadata": {
        "id": "abuDozdjZ9dw"
      },
      "source": [
        "def check_outlier(dataframe, col_name):\n",
        "    low_limit, up_limit = outlier_thresholds(dataframe, col_name)\n",
        "    if dataframe[(dataframe[col_name] > up_limit) | (dataframe[col_name] < low_limit)].any(axis=None):\n",
        "        return True\n",
        "    else:\n",
        "        return False"
      ],
      "execution_count": 78,
      "outputs": []
    },
    {
      "cell_type": "code",
      "metadata": {
        "id": "AJWnMEY9PEOD"
      },
      "source": [
        "def remove_outlier(dataframe, col_name):\n",
        "    low_limit, up_limit = outlier_thresholds(dataframe, col_name)\n",
        "    df_without_outliers = dataframe[~((dataframe[col_name] < low_limit) | (dataframe[col_name] > up_limit))]\n",
        "    return df_without_outliers"
      ],
      "execution_count": 79,
      "outputs": []
    },
    {
      "cell_type": "code",
      "metadata": {
        "colab": {
          "base_uri": "https://localhost:8080/"
        },
        "id": "-S9cCVDyaPX-",
        "outputId": "2265fdf1-5654-4926-968d-19419a3facc8"
      },
      "source": [
        "check_outlier(df_copy, num_cols)"
      ],
      "execution_count": 80,
      "outputs": [
        {
          "output_type": "execute_result",
          "data": {
            "text/plain": [
              "True"
            ]
          },
          "metadata": {},
          "execution_count": 80
        }
      ]
    },
    {
      "cell_type": "code",
      "metadata": {
        "colab": {
          "base_uri": "https://localhost:8080/"
        },
        "id": "Red4rtEbbXsJ",
        "outputId": "eb07b654-bed9-4dab-d3c6-0c1af578e029"
      },
      "source": [
        "print(check_outlier(df_copy, \"Pregnancies\"))\n",
        "print(check_outlier(df_copy, \"Glucose\"))\n",
        "print(check_outlier(df_copy, \"BloodPressure\"))\n",
        "print(check_outlier(df_copy, \"SkinThickness\"))\n",
        "print(check_outlier(df_copy, \"Insulin\"))\n",
        "print(check_outlier(df_copy, \"BMI\"))\n",
        "print(check_outlier(df_copy, \"Age\"))\n",
        "print(check_outlier(df_copy, \"Outcome\"))"
      ],
      "execution_count": 81,
      "outputs": [
        {
          "output_type": "stream",
          "name": "stdout",
          "text": [
            "False\n",
            "False\n",
            "False\n",
            "False\n",
            "True\n",
            "False\n",
            "False\n",
            "False\n"
          ]
        }
      ]
    },
    {
      "cell_type": "code",
      "metadata": {
        "colab": {
          "base_uri": "https://localhost:8080/",
          "height": 279
        },
        "id": "nTBBR04elFXU",
        "outputId": "315e9a78-d4a5-414c-d272-f980903c4233"
      },
      "source": [
        "sns.boxplot(x=df_copy[\"Insulin\"])\n",
        "plt.show()"
      ],
      "execution_count": 82,
      "outputs": [
        {
          "output_type": "display_data",
          "data": {
            "image/png": "[encoded data removed]",
            "text/plain": [
              "<Figure size 432x288 with 1 Axes>"
            ]
          },
          "metadata": {
            "needs_background": "light"
          }
        }
      ]
    },
    {
      "cell_type": "markdown",
      "metadata": {
        "id": "JjCGiVcWoiP-"
      },
      "source": [
        "Ağaç temelli yöntemler kullanılacağı için outlierlara dokunulmadı."
      ]
    },
    {
      "cell_type": "code",
      "metadata": {
        "id": "YEeqwzlwopYJ"
      },
      "source": [
        "def one_hot_encoder(dataframe, categorical_cols, drop_first=False):\n",
        "    dataframe = pd.get_dummies(dataframe, columns=categorical_cols, drop_first=drop_first)\n",
        "    return dataframe"
      ],
      "execution_count": 83,
      "outputs": []
    },
    {
      "cell_type": "code",
      "metadata": {
        "id": "dwsaT1cVopun"
      },
      "source": [
        "df_copy = one_hot_encoder(df_copy, cat_cols, drop_first=True)"
      ],
      "execution_count": 84,
      "outputs": []
    },
    {
      "cell_type": "code",
      "metadata": {
        "colab": {
          "base_uri": "https://localhost:8080/",
          "height": 414
        },
        "id": "UfLhJ01B0ad5",
        "outputId": "20b09c21-68af-4eb6-f5da-912289d958e3"
      },
      "source": [
        "df_copy"
      ],
      "execution_count": 85,
      "outputs": [
        {
          "output_type": "execute_result",
          "data": {
            "text/html": [
              "<div>\n",
              "<style scoped>\n",
              "    .dataframe tbody tr th:only-of-type {\n",
              "        vertical-align: middle;\n",
              "    }\n",
              "\n",
              "    .dataframe tbody tr th {\n",
              "        vertical-align: top;\n",
              "    }\n",
              "\n",
              "    .dataframe thead th {\n",
              "        text-align: right;\n",
              "    }\n",
              "</style>\n",
              "<table border=\"1\" class=\"dataframe\">\n",
              "  <thead>\n",
              "    <tr style=\"text-align: right;\">\n",
              "      <th></th>\n",
              "      <th>Pregnancies</th>\n",
              "      <th>Glucose</th>\n",
              "      <th>BloodPressure</th>\n",
              "      <th>SkinThickness</th>\n",
              "      <th>Insulin</th>\n",
              "      <th>BMI</th>\n",
              "      <th>DiabetesPedigreeFunction</th>\n",
              "      <th>Age</th>\n",
              "      <th>OGTT_Prediabetes</th>\n",
              "      <th>Outcome_1</th>\n",
              "    </tr>\n",
              "  </thead>\n",
              "  <tbody>\n",
              "    <tr>\n",
              "      <th>0</th>\n",
              "      <td>6</td>\n",
              "      <td>148</td>\n",
              "      <td>72</td>\n",
              "      <td>35</td>\n",
              "      <td>0</td>\n",
              "      <td>33.6</td>\n",
              "      <td>0.627</td>\n",
              "      <td>50</td>\n",
              "      <td>1</td>\n",
              "      <td>1</td>\n",
              "    </tr>\n",
              "    <tr>\n",
              "      <th>1</th>\n",
              "      <td>1</td>\n",
              "      <td>85</td>\n",
              "      <td>66</td>\n",
              "      <td>29</td>\n",
              "      <td>0</td>\n",
              "      <td>26.6</td>\n",
              "      <td>0.351</td>\n",
              "      <td>31</td>\n",
              "      <td>0</td>\n",
              "      <td>0</td>\n",
              "    </tr>\n",
              "    <tr>\n",
              "      <th>2</th>\n",
              "      <td>8</td>\n",
              "      <td>183</td>\n",
              "      <td>64</td>\n",
              "      <td>0</td>\n",
              "      <td>0</td>\n",
              "      <td>23.3</td>\n",
              "      <td>0.672</td>\n",
              "      <td>32</td>\n",
              "      <td>1</td>\n",
              "      <td>1</td>\n",
              "    </tr>\n",
              "    <tr>\n",
              "      <th>3</th>\n",
              "      <td>1</td>\n",
              "      <td>89</td>\n",
              "      <td>66</td>\n",
              "      <td>23</td>\n",
              "      <td>94</td>\n",
              "      <td>28.1</td>\n",
              "      <td>0.167</td>\n",
              "      <td>21</td>\n",
              "      <td>0</td>\n",
              "      <td>0</td>\n",
              "    </tr>\n",
              "    <tr>\n",
              "      <th>4</th>\n",
              "      <td>0</td>\n",
              "      <td>137</td>\n",
              "      <td>40</td>\n",
              "      <td>35</td>\n",
              "      <td>168</td>\n",
              "      <td>43.1</td>\n",
              "      <td>2.288</td>\n",
              "      <td>33</td>\n",
              "      <td>0</td>\n",
              "      <td>1</td>\n",
              "    </tr>\n",
              "    <tr>\n",
              "      <th>...</th>\n",
              "      <td>...</td>\n",
              "      <td>...</td>\n",
              "      <td>...</td>\n",
              "      <td>...</td>\n",
              "      <td>...</td>\n",
              "      <td>...</td>\n",
              "      <td>...</td>\n",
              "      <td>...</td>\n",
              "      <td>...</td>\n",
              "      <td>...</td>\n",
              "    </tr>\n",
              "    <tr>\n",
              "      <th>763</th>\n",
              "      <td>10</td>\n",
              "      <td>101</td>\n",
              "      <td>76</td>\n",
              "      <td>48</td>\n",
              "      <td>180</td>\n",
              "      <td>32.9</td>\n",
              "      <td>0.171</td>\n",
              "      <td>63</td>\n",
              "      <td>0</td>\n",
              "      <td>0</td>\n",
              "    </tr>\n",
              "    <tr>\n",
              "      <th>764</th>\n",
              "      <td>2</td>\n",
              "      <td>122</td>\n",
              "      <td>70</td>\n",
              "      <td>27</td>\n",
              "      <td>0</td>\n",
              "      <td>36.8</td>\n",
              "      <td>0.340</td>\n",
              "      <td>27</td>\n",
              "      <td>0</td>\n",
              "      <td>0</td>\n",
              "    </tr>\n",
              "    <tr>\n",
              "      <th>765</th>\n",
              "      <td>5</td>\n",
              "      <td>121</td>\n",
              "      <td>72</td>\n",
              "      <td>23</td>\n",
              "      <td>112</td>\n",
              "      <td>26.2</td>\n",
              "      <td>0.245</td>\n",
              "      <td>30</td>\n",
              "      <td>0</td>\n",
              "      <td>0</td>\n",
              "    </tr>\n",
              "    <tr>\n",
              "      <th>766</th>\n",
              "      <td>1</td>\n",
              "      <td>126</td>\n",
              "      <td>60</td>\n",
              "      <td>0</td>\n",
              "      <td>0</td>\n",
              "      <td>30.1</td>\n",
              "      <td>0.349</td>\n",
              "      <td>47</td>\n",
              "      <td>0</td>\n",
              "      <td>1</td>\n",
              "    </tr>\n",
              "    <tr>\n",
              "      <th>767</th>\n",
              "      <td>1</td>\n",
              "      <td>93</td>\n",
              "      <td>70</td>\n",
              "      <td>31</td>\n",
              "      <td>0</td>\n",
              "      <td>30.4</td>\n",
              "      <td>0.315</td>\n",
              "      <td>23</td>\n",
              "      <td>0</td>\n",
              "      <td>0</td>\n",
              "    </tr>\n",
              "  </tbody>\n",
              "</table>\n",
              "<p>768 rows × 10 columns</p>\n",
              "</div>"
            ],
            "text/plain": [
              "     Pregnancies  Glucose  BloodPressure  ...  Age  OGTT_Prediabetes  Outcome_1\n",
              "0              6      148             72  ...   50                 1          1\n",
              "1              1       85             66  ...   31                 0          0\n",
              "2              8      183             64  ...   32                 1          1\n",
              "3              1       89             66  ...   21                 0          0\n",
              "4              0      137             40  ...   33                 0          1\n",
              "..           ...      ...            ...  ...  ...               ...        ...\n",
              "763           10      101             76  ...   63                 0          0\n",
              "764            2      122             70  ...   27                 0          0\n",
              "765            5      121             72  ...   30                 0          0\n",
              "766            1      126             60  ...   47                 0          1\n",
              "767            1       93             70  ...   23                 0          0\n",
              "\n",
              "[768 rows x 10 columns]"
            ]
          },
          "metadata": {},
          "execution_count": 85
        }
      ]
    },
    {
      "cell_type": "code",
      "metadata": {
        "id": "4OiggGLelnhj"
      },
      "source": [
        "# The distribution of the actual values and the predictions made by the algorithms is intended to be shown not only with numerical error metrics, but also with visual graphics:\n",
        "\n",
        "def predVisualization(test_pred, y_test):\n",
        "  x_ax = range(len(test_pred))\n",
        "  figure(figsize=(30, 10), dpi=80)\n",
        "  plt.scatter(x_ax, y_test, lw=6, color=\"blue\", label=\"original\")\n",
        "  plt.scatter(x_ax, test_pred, lw=4, color=\"red\", label=\"predicted_rtc\")\n",
        "  plt.legend()\n",
        "  plt.style.use('default')\n",
        "  plt.show()"
      ],
      "execution_count": 86,
      "outputs": []
    },
    {
      "cell_type": "code",
      "metadata": {
        "id": "yblqRCvBlUkZ"
      },
      "source": [
        "######################## Without Outliers ########################\n",
        "# Tüm parametreler\n",
        "X = df_copy.iloc[:, [0, 1, 2, 3, 4, 5, 6, 7, 8]].values\n",
        "y = df_copy.iloc[:, 9].values"
      ],
      "execution_count": 87,
      "outputs": []
    },
    {
      "cell_type": "code",
      "metadata": {
        "id": "7IAC_MChlizq"
      },
      "source": [
        "from sklearn.preprocessing import StandardScaler\n",
        "\n",
        "scaler = StandardScaler()\n",
        "\n",
        "X = scaler.fit_transform(X)"
      ],
      "execution_count": 89,
      "outputs": []
    },
    {
      "cell_type": "code",
      "metadata": {
        "id": "DsSXnkfCli18"
      },
      "source": [
        "# Splitting dataset:\n",
        "from sklearn.model_selection import train_test_split\n",
        "\n",
        "X_train, X_test, y_train, y_test = train_test_split(X, y, test_size=0.3, random_state = 42)"
      ],
      "execution_count": 90,
      "outputs": []
    },
    {
      "cell_type": "code",
      "metadata": {
        "id": "VlyJgPRJli38"
      },
      "source": [
        "def LogRes(X_train, y_train, X_test, y_test):\n",
        "  lr = LogisticRegression()\n",
        "  model = lr.fit(X_train, y_train)\n",
        "  train_preds = lr.predict(X_train)\n",
        "  test_preds = lr.predict(X_test)\n",
        "\n",
        "  #Metrics\n",
        "  accuracy_score_train = accuracy_score(y_train, train_preds, normalize=False)\n",
        "  accuracy_score_test = accuracy_score(y_test, test_preds, normalize=False)\n",
        "  print(\"accuracy_score_train: \", accuracy_score_train)\n",
        "  print(\"accuracy_score_test: \", accuracy_score_test)\n",
        "\n",
        "  f1_score_train = f1_score(y_train, train_preds, average='binary')\n",
        "  f1_score_test = f1_score(y_test, test_preds, average='binary')\n",
        "  print(\"f1_score_train: \", f1_score_train)\n",
        "  print(\"f1_score_test: \", f1_score_test)\n",
        "\n",
        "  roc_auc_score_train = roc_auc_score(y_train, train_preds)\n",
        "  roc_auc_score_test = roc_auc_score(y_test, test_preds)\n",
        "  print(\"roc_auc_score_train: \", roc_auc_score_train)\n",
        "  print(\"roc_auc_score_test: \", roc_auc_score_test)\n",
        "\n",
        "  precision_score_train = precision_score(y_train, train_preds, average='binary')\n",
        "  precision_score_test = precision_score(y_test, test_preds, average='binary')\n",
        "  print(\"precision_score_train: \", precision_score_train)\n",
        "  print(\"precision_score_test: \", precision_score_test)\n",
        "\n",
        "  recall_score_train = recall_score(y_train, train_preds, average='binary')\n",
        "  recall_score_test = recall_score(y_test, test_preds, average='binary')\n",
        "  print(\"recall_score_train: \", recall_score_train)\n",
        "  print(\"recall_score_test: \", recall_score_test)\n",
        "\n",
        "  confusion_matrix_train = confusion_matrix(y_train, train_preds)\n",
        "  confusion_matrix_test = confusion_matrix(y_test, test_preds)\n",
        "  print(\"confusion_matrix_train: \", confusion_matrix_train)\n",
        "  print(\"confusion_matrix_test: \", confusion_matrix_test)\n",
        "\n",
        "  predVisualization(test_preds, y_test)\n",
        "\n",
        "  return accuracy_score_train, accuracy_score_test, f1_score_train, f1_score_test, roc_auc_score_train, roc_auc_score_test, precision_score_train, precision_score_test, recall_score_train, recall_score_test, "
      ],
      "execution_count": 91,
      "outputs": []
    },
    {
      "cell_type": "code",
      "metadata": {
        "colab": {
          "base_uri": "https://localhost:8080/",
          "height": 757
        },
        "id": "boOA4Dfpli5x",
        "outputId": "9e167afe-bafd-4ae6-910c-a2fac45533c8"
      },
      "source": [
        "accuracy_score_train_lr, accuracy_score_test_lr, f1_score_train_lr, f1_score_test_lr, roc_auc_score_train_lr, roc_auc_score_test_lr, precision_score_train_lr, precision_score_test_lr, recall_score_train_lr, recall_score_test_lr,  = LogRes(X_train, y_train, X_test, y_test)"
      ],
      "execution_count": 93,
      "outputs": [
        {
          "output_type": "stream",
          "name": "stdout",
          "text": [
            "accuracy_score_train:  419\n",
            "accuracy_score_test:  171\n",
            "f1_score_train:  0.650887573964497\n",
            "f1_score_test:  0.625\n",
            "roc_auc_score_train:  0.7352466012314821\n",
            "roc_auc_score_test:  0.7131622516556292\n",
            "precision_score_train:  0.7333333333333333\n",
            "precision_score_test:  0.625\n",
            "recall_score_train:  0.5851063829787234\n",
            "recall_score_test:  0.625\n",
            "confusion_matrix_train:  [[309  40]\n",
            " [ 78 110]]\n",
            "confusion_matrix_test:  [[121  30]\n",
            " [ 30  50]]\n"
          ]
        },
        {
          "output_type": "display_data",
          "data": {
            "image/png": "[encoded data removed]",
            "text/plain": [
              "<Figure size 2400x800 with 1 Axes>"
            ]
          },
          "metadata": {
            "needs_background": "light"
          }
        }
      ]
    },
    {
      "cell_type": "code",
      "metadata": {
        "id": "8SOmNt5OljAE"
      },
      "source": [
        "def XGB(X_train, y_train, X_test, y_test):\n",
        "  xgb = XGBClassifier()\n",
        "  model = xgb.fit(X_train, y_train)\n",
        "  train_preds = xgb.predict(X_train)\n",
        "  test_preds = xgb.predict(X_test)\n",
        "\n",
        "  #Metrics\n",
        "  accuracy_score_train = accuracy_score(y_train, train_preds, normalize=False)\n",
        "  accuracy_score_test = accuracy_score(y_test, test_preds, normalize=False)\n",
        "  print(\"accuracy_score_train: \", accuracy_score_train)\n",
        "  print(\"accuracy_score_test: \", accuracy_score_test)\n",
        "\n",
        "  f1_score_train = f1_score(y_train, train_preds, average='binary')\n",
        "  f1_score_test = f1_score(y_test, test_preds, average='binary')\n",
        "  print(\"f1_score_train: \", f1_score_train)\n",
        "  print(\"f1_score_test: \", f1_score_test)\n",
        "\n",
        "  roc_auc_score_train = roc_auc_score(y_train, train_preds)\n",
        "  roc_auc_score_test = roc_auc_score(y_test, test_preds)\n",
        "  print(\"roc_auc_score_train: \", roc_auc_score_train)\n",
        "  print(\"roc_auc_score_test: \", roc_auc_score_test)\n",
        "\n",
        "  precision_score_train = precision_score(y_train, train_preds, average='binary')\n",
        "  precision_score_test = precision_score(y_test, test_preds, average='binary')\n",
        "  print(\"precision_score_train: \", precision_score_train)\n",
        "  print(\"precision_score_test: \", precision_score_test)\n",
        "\n",
        "  recall_score_train = recall_score(y_train, train_preds, average='binary')\n",
        "  recall_score_test = recall_score(y_test, test_preds, average='binary')\n",
        "  print(\"recall_score_train: \", recall_score_train)\n",
        "  print(\"recall_score_test: \", recall_score_test)\n",
        "\n",
        "  confusion_matrix_train = confusion_matrix(y_train, train_preds)\n",
        "  confusion_matrix_test = confusion_matrix(y_test, test_preds)\n",
        "  print(\"confusion_matrix_train: \", confusion_matrix_train)\n",
        "  print(\"confusion_matrix_test: \", confusion_matrix_test)\n",
        "\n",
        "  predVisualization(test_preds, y_test)\n",
        "\n",
        "  return accuracy_score_train, accuracy_score_test, f1_score_train, f1_score_test, roc_auc_score_train, roc_auc_score_test, precision_score_train, precision_score_test, recall_score_train, recall_score_test, "
      ],
      "execution_count": 109,
      "outputs": []
    },
    {
      "cell_type": "code",
      "metadata": {
        "colab": {
          "base_uri": "https://localhost:8080/",
          "height": 767
        },
        "id": "nEDjXEaXs7Z4",
        "outputId": "2b73b896-7335-466e-def9-553776666aed"
      },
      "source": [
        "accuracy_score_train_xgb, accuracy_score_test_xgb, f1_score_train_xgb, f1_score_test_xgb, roc_auc_score_train_xgb, roc_auc_score_test_xgb, precision_score_train_xgb, precision_score_test_xgb, recall_score_train_xgb, recall_score_test_xgb = XGB(X_train, y_train, X_test, y_test)"
      ],
      "execution_count": 110,
      "outputs": [
        {
          "output_type": "stream",
          "name": "stdout",
          "text": [
            "accuracy_score_train:  493\n",
            "accuracy_score_test:  173\n",
            "f1_score_train:  0.8797814207650274\n",
            "f1_score_test:  0.6588235294117647\n",
            "roc_auc_score_train:  0.9038361885021032\n",
            "roc_auc_score_test:  0.7374172185430463\n",
            "precision_score_train:  0.9044943820224719\n",
            "precision_score_test:  0.6222222222222222\n",
            "recall_score_train:  0.8563829787234043\n",
            "recall_score_test:  0.7\n",
            "confusion_matrix_train:  [[332  17]\n",
            " [ 27 161]]\n",
            "confusion_matrix_test:  [[117  34]\n",
            " [ 24  56]]\n"
          ]
        },
        {
          "output_type": "display_data",
          "data": {
            "image/png": "[encoded data removed]",
            "text/plain": [
              "<Figure size 2400x800 with 1 Axes>"
            ]
          },
          "metadata": {}
        }
      ]
    },
    {
      "cell_type": "code",
      "metadata": {
        "id": "4RBKU8PBU4Lc"
      },
      "source": [
        "# XGBoost Logisctic Regression'a oranla beklenildiği gibi çok daha iyi sonuçlar vermektedir. X 493/173 doğru"
      ],
      "execution_count": null,
      "outputs": []
    },
    {
      "cell_type": "code",
      "metadata": {
        "id": "5CzOnXDmV_oO"
      },
      "source": [
        "def KNN(X_train, y_train, X_test, y_test):\n",
        "  knn = KNeighborsClassifier()\n",
        "  model = knn.fit(X_train, y_train)\n",
        "  train_preds = knn.predict(X_train)\n",
        "  test_preds = knn.predict(X_test)\n",
        "\n",
        "  #Metrics\n",
        "  accuracy_score_train = accuracy_score(y_train, train_preds, normalize=False)\n",
        "  accuracy_score_test = accuracy_score(y_test, test_preds, normalize=False)\n",
        "  print(\"accuracy_score_train: \", accuracy_score_train)\n",
        "  print(\"accuracy_score_test: \", accuracy_score_test)\n",
        "\n",
        "  f1_score_train = f1_score(y_train, train_preds, average='binary')\n",
        "  f1_score_test = f1_score(y_test, test_preds, average='binary')\n",
        "  print(\"f1_score_train: \", f1_score_train)\n",
        "  print(\"f1_score_test: \", f1_score_test)\n",
        "\n",
        "  roc_auc_score_train = roc_auc_score(y_train, train_preds)\n",
        "  roc_auc_score_test = roc_auc_score(y_test, test_preds)\n",
        "  print(\"roc_auc_score_train: \", roc_auc_score_train)\n",
        "  print(\"roc_auc_score_test: \", roc_auc_score_test)\n",
        "\n",
        "  precision_score_train = precision_score(y_train, train_preds, average='binary')\n",
        "  precision_score_test = precision_score(y_test, test_preds, average='binary')\n",
        "  print(\"precision_score_train: \", precision_score_train)\n",
        "  print(\"precision_score_test: \", precision_score_test)\n",
        "\n",
        "  recall_score_train = recall_score(y_train, train_preds, average='binary')\n",
        "  recall_score_test = recall_score(y_test, test_preds, average='binary')\n",
        "  print(\"recall_score_train: \", recall_score_train)\n",
        "  print(\"recall_score_test: \", recall_score_test)\n",
        "\n",
        "  confusion_matrix_train = confusion_matrix(y_train, train_preds)\n",
        "  confusion_matrix_test = confusion_matrix(y_test, test_preds)\n",
        "  print(\"confusion_matrix_train: \", confusion_matrix_train)\n",
        "  print(\"confusion_matrix_test: \", confusion_matrix_test)\n",
        "\n",
        "  predVisualization(test_preds, y_test)\n",
        "\n",
        "  return accuracy_score_train, accuracy_score_test, f1_score_train, f1_score_test, roc_auc_score_train, roc_auc_score_test, precision_score_train, precision_score_test, recall_score_train, recall_score_test, "
      ],
      "execution_count": 111,
      "outputs": []
    },
    {
      "cell_type": "code",
      "metadata": {
        "colab": {
          "base_uri": "https://localhost:8080/",
          "height": 767
        },
        "id": "82pFI_pDWDoe",
        "outputId": "7ffe7ba4-f066-47d2-f7f4-b2441e4df7f8"
      },
      "source": [
        "accuracy_score_train_knn, accuracy_score_test_knn, f1_score_train_knn, f1_score_test_knn, roc_auc_score_train_knn, roc_auc_score_test_knn, precision_score_train_knn, precision_score_test_knn, recall_score_train_knn, recall_score_test_knn = KNN(X_train, y_train, X_test, y_test)"
      ],
      "execution_count": 119,
      "outputs": [
        {
          "output_type": "stream",
          "name": "stdout",
          "text": [
            "accuracy_score_train:  440\n",
            "accuracy_score_test:  161\n",
            "f1_score_train:  0.7204610951008645\n",
            "f1_score_test:  0.5454545454545455\n",
            "roc_auc_score_train:  0.7837362067914405\n",
            "roc_auc_score_test:  0.6565397350993378\n",
            "precision_score_train:  0.7861635220125787\n",
            "precision_score_test:  0.5675675675675675\n",
            "recall_score_train:  0.6648936170212766\n",
            "recall_score_test:  0.525\n",
            "confusion_matrix_train:  [[315  34]\n",
            " [ 63 125]]\n",
            "confusion_matrix_test:  [[119  32]\n",
            " [ 38  42]]\n"
          ]
        },
        {
          "output_type": "display_data",
          "data": {
            "image/png": "[encoded data removed]",
            "text/plain": [
              "<Figure size 2400x800 with 1 Axes>"
            ]
          },
          "metadata": {}
        }
      ]
    },
    {
      "cell_type": "code",
      "metadata": {
        "id": "-RD_3jCle2AJ"
      },
      "source": [
        "def RFC(X_train, y_train, X_test, y_test):\n",
        "  rfc = RandomForestClassifier(n_estimators=30)\n",
        "  model = rfc.fit(X_train, y_train)\n",
        "  train_preds = rfc.predict(X_train)\n",
        "  test_preds = rfc.predict(X_test)\n",
        "\n",
        "  #Metrics\n",
        "  accuracy_score_train = accuracy_score(y_train, train_preds, normalize=False)\n",
        "  accuracy_score_test = accuracy_score(y_test, test_preds, normalize=False)\n",
        "  print(\"accuracy_score_train: \", accuracy_score_train)\n",
        "  print(\"accuracy_score_test: \", accuracy_score_test)\n",
        "\n",
        "  f1_score_train = f1_score(y_train, train_preds, average='binary')\n",
        "  f1_score_test = f1_score(y_test, test_preds, average='binary')\n",
        "  print(\"f1_score_train: \", f1_score_train)\n",
        "  print(\"f1_score_test: \", f1_score_test)\n",
        "\n",
        "  roc_auc_score_train = roc_auc_score(y_train, train_preds)\n",
        "  roc_auc_score_test = roc_auc_score(y_test, test_preds)\n",
        "  print(\"roc_auc_score_train: \", roc_auc_score_train)\n",
        "  print(\"roc_auc_score_test: \", roc_auc_score_test)\n",
        "\n",
        "  precision_score_train = precision_score(y_train, train_preds, average='binary')\n",
        "  precision_score_test = precision_score(y_test, test_preds, average='binary')\n",
        "  print(\"precision_score_train: \", precision_score_train)\n",
        "  print(\"precision_score_test: \", precision_score_test)\n",
        "\n",
        "  recall_score_train = recall_score(y_train, train_preds, average='binary')\n",
        "  recall_score_test = recall_score(y_test, test_preds, average='binary')\n",
        "  print(\"recall_score_train: \", recall_score_train)\n",
        "  print(\"recall_score_test: \", recall_score_test)\n",
        "\n",
        "  confusion_matrix_train = confusion_matrix(y_train, train_preds)\n",
        "  confusion_matrix_test = confusion_matrix(y_test, test_preds)\n",
        "  print(\"confusion_matrix_train: \", confusion_matrix_train)\n",
        "  print(\"confusion_matrix_test: \", confusion_matrix_test)\n",
        "\n",
        "  predVisualization(test_preds, y_test)\n",
        "\n",
        "  return accuracy_score_train, accuracy_score_test, f1_score_train, f1_score_test, roc_auc_score_train, roc_auc_score_test, precision_score_train, precision_score_test, recall_score_train, recall_score_test, "
      ],
      "execution_count": 113,
      "outputs": []
    },
    {
      "cell_type": "code",
      "metadata": {
        "colab": {
          "base_uri": "https://localhost:8080/",
          "height": 767
        },
        "id": "jKXmrqJokPWR",
        "outputId": "3bddae33-e0ae-4c8d-a339-72868c8d96bd"
      },
      "source": [
        "accuracy_score_train_rfc, accuracy_score_test_rfc, f1_score_train_rfc, f1_score_test_rfc, roc_auc_score_train_rfc, roc_auc_score_test_rfc, precision_score_train_rfc, precision_score_test_rfc, recall_score_train_rfc, recall_score_test_rfc = RFC(X_train, y_train, X_test, y_test)"
      ],
      "execution_count": 118,
      "outputs": [
        {
          "output_type": "stream",
          "name": "stdout",
          "text": [
            "accuracy_score_train:  537\n",
            "accuracy_score_test:  172\n",
            "f1_score_train:  1.0\n",
            "f1_score_test:  0.6380368098159509\n",
            "roc_auc_score_train:  1.0\n",
            "roc_auc_score_test:  0.7223509933774834\n",
            "precision_score_train:  1.0\n",
            "precision_score_test:  0.6265060240963856\n",
            "recall_score_train:  1.0\n",
            "recall_score_test:  0.65\n",
            "confusion_matrix_train:  [[349   0]\n",
            " [  0 188]]\n",
            "confusion_matrix_test:  [[120  31]\n",
            " [ 28  52]]\n"
          ]
        },
        {
          "output_type": "display_data",
          "data": {
            "image/png": "[encoded data removed]",
            "text/plain": [
              "<Figure size 2400x800 with 1 Axes>"
            ]
          },
          "metadata": {}
        }
      ]
    },
    {
      "cell_type": "code",
      "metadata": {
        "id": "kqk5fBw2kqJ5"
      },
      "source": [
        "def DTC(X_train, y_train, X_test, y_test):\n",
        "  dtc = DecisionTreeClassifier()\n",
        "  model = dtc.fit(X_train, y_train)\n",
        "  train_preds = dtc.predict(X_train)\n",
        "  test_preds = dtc.predict(X_test)\n",
        "\n",
        "  #Metrics\n",
        "  accuracy_score_train = accuracy_score(y_train, train_preds, normalize=False)\n",
        "  accuracy_score_test = accuracy_score(y_test, test_preds, normalize=False)\n",
        "  print(\"accuracy_score_train: \", accuracy_score_train)\n",
        "  print(\"accuracy_score_test: \", accuracy_score_test)\n",
        "\n",
        "  f1_score_train = f1_score(y_train, train_preds, average='binary')\n",
        "  f1_score_test = f1_score(y_test, test_preds, average='binary')\n",
        "  print(\"f1_score_train: \", f1_score_train)\n",
        "  print(\"f1_score_test: \", f1_score_test)\n",
        "\n",
        "  roc_auc_score_train = roc_auc_score(y_train, train_preds)\n",
        "  roc_auc_score_test = roc_auc_score(y_test, test_preds)\n",
        "  print(\"roc_auc_score_train: \", roc_auc_score_train)\n",
        "  print(\"roc_auc_score_test: \", roc_auc_score_test)\n",
        "\n",
        "  precision_score_train = precision_score(y_train, train_preds, average='binary')\n",
        "  precision_score_test = precision_score(y_test, test_preds, average='binary')\n",
        "  print(\"precision_score_train: \", precision_score_train)\n",
        "  print(\"precision_score_test: \", precision_score_test)\n",
        "\n",
        "  recall_score_train = recall_score(y_train, train_preds, average='binary')\n",
        "  recall_score_test = recall_score(y_test, test_preds, average='binary')\n",
        "  print(\"recall_score_train: \", recall_score_train)\n",
        "  print(\"recall_score_test: \", recall_score_test)\n",
        "\n",
        "  confusion_matrix_train = confusion_matrix(y_train, train_preds)\n",
        "  confusion_matrix_test = confusion_matrix(y_test, test_preds)\n",
        "  print(\"confusion_matrix_train: \", confusion_matrix_train)\n",
        "  print(\"confusion_matrix_test: \", confusion_matrix_test)\n",
        "\n",
        "  predVisualization(test_preds, y_test)\n",
        "\n",
        "  return accuracy_score_train, accuracy_score_test, f1_score_train, f1_score_test, roc_auc_score_train, roc_auc_score_test, precision_score_train, precision_score_test, recall_score_train, recall_score_test, "
      ],
      "execution_count": 115,
      "outputs": []
    },
    {
      "cell_type": "code",
      "metadata": {
        "colab": {
          "base_uri": "https://localhost:8080/",
          "height": 767
        },
        "id": "HXzfkOExlBle",
        "outputId": "58112a3d-bea0-47ed-8278-0ee0209e56c0"
      },
      "source": [
        "accuracy_score_train_dtc, accuracy_score_test_dtc, f1_score_train_dtc, f1_score_test_dtc, roc_auc_score_train_dtc, roc_auc_score_test_dtc, precision_score_train_dtc, precision_score_test_dtc, recall_score_train_dtc, recall_score_test_dtc = DTC(X_train, y_train, X_test, y_test)"
      ],
      "execution_count": 117,
      "outputs": [
        {
          "output_type": "stream",
          "name": "stdout",
          "text": [
            "accuracy_score_train:  537\n",
            "accuracy_score_test:  163\n",
            "f1_score_train:  1.0\n",
            "f1_score_test:  0.6222222222222222\n",
            "roc_auc_score_train:  1.0\n",
            "roc_auc_score_test:  0.7043046357615894\n",
            "precision_score_train:  1.0\n",
            "precision_score_test:  0.56\n",
            "recall_score_train:  1.0\n",
            "recall_score_test:  0.7\n",
            "confusion_matrix_train:  [[349   0]\n",
            " [  0 188]]\n",
            "confusion_matrix_test:  [[107  44]\n",
            " [ 24  56]]\n"
          ]
        },
        {
          "output_type": "display_data",
          "data": {
            "image/png": "[encoded data removed]",
            "text/plain": [
              "<Figure size 2400x800 with 1 Axes>"
            ]
          },
          "metadata": {}
        }
      ]
    },
    {
      "cell_type": "code",
      "metadata": {
        "id": "yAP3IYP4-RuV"
      },
      "source": [
        ""
      ],
      "execution_count": null,
      "outputs": []
    }
  ]
}